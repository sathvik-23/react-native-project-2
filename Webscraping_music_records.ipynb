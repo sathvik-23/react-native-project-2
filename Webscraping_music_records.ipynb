{
 "cells": [
  {
   "cell_type": "markdown",
   "id": "e29c8a8e-669b-474c-806f-d058e7f54f1e",
   "metadata": {},
   "source": [
    "import json\n",
    "\n"
   ]
  },
  {
   "cell_type": "markdown",
   "id": "01924500-9a24-4cca-b004-bcfa95202f29",
   "metadata": {},
   "source": [
    "with open('autoassignment-417803-0ab2ac8e8aad.json') as f:\n",
    "  data = json.load(f)\n",
    "\n",
    "# Output: {'name': 'Bob', 'languages': ['English', 'Fench']}\n",
    "print(data)\n"
   ]
  },
  {
   "cell_type": "markdown",
   "id": "92a99ba9-70fd-4203-954a-ffd00aa8da56",
   "metadata": {},
   "source": [
    "pip install gspread oauth2client\n"
   ]
  },
  {
   "cell_type": "markdown",
   "id": "3e6f093c-d268-45ac-8178-76b3f1c1fd07",
   "metadata": {},
   "source": [
    "\n",
    "\n",
    "\n",
    "import gspread\n",
    "from oauth2client.service_account import ServiceAccountCredentials\n",
    "\n",
    "\n",
    "# use creds to create a client to interact with the Google Drive API\n",
    "scope = ['https://spreadsheets.google.com/feeds','https://www.googleapis.com/auth/drive','https://www.googleapis.com/auth/drive.file','https://www.googleapis.com/auth/spreadsheets']\n",
    "creds = ServiceAccountCredentials.from_json_keyfile_name('autoassignment-417803-0ab2ac8e8aad.json', scope)\n",
    "client = gspread.authorize(creds)\n",
    "\n",
    "\n",
    "# Find a workbook by name and open the first sheet\n",
    "# Make sure you use the right name here.\n",
    "sheet = client.open(\"autoassignment\").sheet1\n",
    "spreadsheet_key = '1uyZlFs_DK4dYvgkgudHLoRpS9zM_1VYIvPTqOQoNXUk'\n",
    "\n",
    "\n",
    "\n",
    "\n",
    "\n"
   ]
  },
  {
   "cell_type": "markdown",
   "id": "7cbfa703-1e33-428e-9c72-13abc606efdf",
   "metadata": {},
   "source": [
    "\n",
    "import bs4\n",
    "import urllib.request\n",
    "from urllib.request import urlopen \n",
    "from bs4 import BeautifulSoup as soup\n",
    "\n"
   ]
  },
  {
   "cell_type": "markdown",
   "id": "2c4afe98-e70e-4cfd-818d-020b81d1cf47",
   "metadata": {},
   "source": [
    "\n"
   ]
  },
  {
   "cell_type": "markdown",
   "id": "271a0c6b-ffb2-4a93-a76c-5c06584c8917",
   "metadata": {},
   "source": [
    "html = urlopen('https://en.wikipedia.org/wiki/List_of_largest_recorded_music_markets')\n",
    "bsobj = soup(html.read())\n",
    "tbody = bsobj('table',{'class':'wikitable plainrowheaders sortable'})[0].findAll('tr')\n",
    "xl = []\n",
    "for row in tbody:\n",
    "    cols = row.findChildren(recursive = False)\n",
    "    cols = [element.text.strip() for element in cols]\n",
    "    \n",
    "    xl.append(cols)\n",
    "    print(cols)\n"
   ]
  },
  {
   "cell_type": "markdown",
   "id": "893af36b-e6e4-4825-95c0-2957f283a608",
   "metadata": {},
   "source": [
    "pip install df2gspread"
   ]
  },
  {
   "cell_type": "markdown",
   "id": "a6eb29ba-4261-4fbe-8f58-78566971eb05",
   "metadata": {},
   "source": [
    "\n",
    "from df2gspread import df2gspread as d2g\n",
    "wks_name = 'Sheet1'\n",
    "cell_of_start_df = 'A1'\n",
    "d2g.upload(df,\n",
    "           spreadsheet_key,\n",
    "           wks_name,\n",
    "           credentials=creds,\n",
    "           col_names=False,\n",
    "           row_names=False,\n",
    "           start_cell = cell_of_start_df,\n",
    "           clean=False)\n",
    "print ('The sheet is updated successfully')\n",
    "\n"
   ]
  },
  {
   "cell_type": "markdown",
   "id": "df44efd9-e8b9-4948-819b-085b1b38970c",
   "metadata": {},
   "source": []
  },
  {
   "cell_type": "markdown",
   "id": "229a4d01-6524-4570-a8ea-5cdc1778a5bd",
   "metadata": {},
   "source": []
  },
  {
   "cell_type": "markdown",
   "id": "ac2c7f48-803b-468e-babb-4ff258bcfe94",
   "metadata": {},
   "source": []
  }
 ],
 "metadata": {
  "kernelspec": {
   "display_name": "Python 3 (ipykernel)",
   "language": "python",
   "name": "python3"
  },
  "language_info": {
   "codemirror_mode": {
    "name": "ipython",
    "version": 3
   },
   "file_extension": ".py",
   "mimetype": "text/x-python",
   "name": "python",
   "nbconvert_exporter": "python",
   "pygments_lexer": "ipython3",
   "version": "3.11.7"
  }
 },
 "nbformat": 4,
 "nbformat_minor": 5
}
